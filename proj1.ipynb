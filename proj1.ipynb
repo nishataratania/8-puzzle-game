{
 "cells": [
  {
   "cell_type": "code",
   "execution_count": 1,
   "id": "36507b03-359c-4a3c-979d-ebe3a74381d8",
   "metadata": {},
   "outputs": [],
   "source": [
    "import copy"
   ]
  },
  {
   "cell_type": "code",
   "execution_count": 2,
   "id": "38015156-4b6b-43bd-b733-7f6b477f43e9",
   "metadata": {},
   "outputs": [],
   "source": [
    "import heapq\n",
    "\n",
    "class EightPuzzleState:\n",
    "    \"\"\"A class representing an Eight Puzzle state.\n",
    "\n",
    "    Attributes:\n",
    "    board: The board of the puzzle.\n",
    "    blank_row: The row of the blank tile.\n",
    "    blank_col: The column of the blank tile.\n",
    "    \"\"\"\n",
    "\n",
    "    def __init__(self, board):\n",
    "        self.board = board\n",
    "        self.blank_row, self.blank_col = self.get_blank_cell()\n",
    "        \n",
    "    def get_blank_cell(self):\n",
    "        for i in range(3):\n",
    "            for j in range(3):\n",
    "                if self.board[i][j] == 0:\n",
    "                    return i, j\n",
    "\n",
    "    def is_goal_state(self):\n",
    "        for i in range(3):\n",
    "            for j in range(3):\n",
    "                if i == 2 and j == 2:\n",
    "                    if self.board[i][j] != 0:\n",
    "                        return False\n",
    "                elif self.board[i][j] != (i * 3) + j + 1:\n",
    "                    return False\n",
    "        return True\n",
    "\n",
    "    def __lt__(self, other):\n",
    "        for i in range(3):\n",
    "            for j in range(3):\n",
    "                if self.board[i][j] < other.board[i][j]:\n",
    "                    return True\n",
    "                if self.board[i][j] > other.board[i][j]:\n",
    "                    return False\n",
    "\n",
    "        return False\n",
    "    def get_neighbors(self):\n",
    "        # Get the blank tile's row and column.\n",
    "        blank_row = self.blank_row\n",
    "        blank_col = self.blank_col\n",
    "\n",
    "        # Get the list of possible moves.\n",
    "        possible_moves = [(-1, 0), (0, -1), (1, 0), (0, 1)]\n",
    "\n",
    "        # Create a list of the neighbors.\n",
    "        neighbors = []\n",
    "        for move in possible_moves:\n",
    "            new_row = blank_row + move[0]\n",
    "            new_col = blank_col + move[1]\n",
    "\n",
    "            # Check if the move is valid.\n",
    "            if new_row >= 0 and new_row < 3 and new_col >= 0 and new_col < 3:\n",
    "                # Check if the move does not move the blank tile outside of the board.\n",
    "                if new_row != 0 and new_col != 0:\n",
    "                    # Check if the move does not move the blank tile into a occupied tile.\n",
    "                    if self.board[new_row][new_col] != 0:\n",
    "                        new_board = copy.deepcopy(self.board)\n",
    "                        new_board[blank_row][blank_col] = self.board[new_row][new_col]\n",
    "                        new_board[new_row][new_col] = self.board[blank_row][blank_col]\n",
    "                        \n",
    "                        neighbors.append(EightPuzzleState(new_board))\n",
    "\n",
    "        return neighbors\n",
    "\n",
    "    def misplaced_tiles_heuristic(self):\n",
    "        count = 0\n",
    "        for i in range(3):\n",
    "            for j in range(3):\n",
    "                if self._board[i][j] != (i * 3) + j + 1:\n",
    "                    count += 1\n",
    "        return count\n",
    "\n",
    "    def manhattan_distance_heuristic(self):\n",
    "        distance = 0\n",
    "        for i in range(3):\n",
    "            for j in range(3):\n",
    "                if self._board[i][j] != 0:\n",
    "                    distance += abs((self._board[i][j] - 1) // 3 - i) + abs((self._board[i][j] - 1) % 3 - j)\n",
    "        return distance\n",
    "    \n",
    "    def get_string(self):\n",
    "        dummy_string = \"\"\n",
    "        for i in range(3):\n",
    "            for j in range(3):\n",
    "                dummy_string += str(self.board[i][j])\n",
    "        return dummy_string"
   ]
  },
  {
   "cell_type": "code",
   "execution_count": 3,
   "id": "3011a835-2fce-4f66-afd5-5c4e3a4f472f",
   "metadata": {},
   "outputs": [],
   "source": [
    "def misplaced_tiles_heuristic(state):\n",
    "    \"\"\"Returns the number of misplaced tiles in the given state.\"\"\"\n",
    "    count = 0\n",
    "    for i in range(3):\n",
    "        for j in range(3):\n",
    "            if state[i][j] != (i * 3) + j + 1:\n",
    "                count += 1\n",
    "    return count\n",
    "\n",
    "def manhattan_distance_heuristic(state):\n",
    "    \"\"\"Returns the Manhattan distance between the given state and the goal state.\"\"\"\n",
    "    distance = 0\n",
    "    for i in range(3):\n",
    "        for j in range(3):\n",
    "            if state[i][j] != 0:\n",
    "                distance += abs((state[i][j] - 1) // 3 - i) + abs((state[i][j] - 1) % 3 - j)\n",
    "    return distance"
   ]
  },
  {
   "cell_type": "code",
   "execution_count": 4,
   "id": "b7d21786-6518-4d79-b512-2b7826664f73",
   "metadata": {},
   "outputs": [],
   "source": [
    "UNIFORM_COST = 'Uniform cost'\n",
    "MISPLACED_TILES = 'Misplaced tiles heuristic'\n",
    "MANHATTAND_DIST = 'Manhattan distance heuristic'\n",
    "heuristic_choices = {\n",
    "    '1' : UNIFORM_COST,\n",
    "    '2' : MISPLACED_TILES,\n",
    "    '3' : MANHATTAND_DIST\n",
    "}\n",
    "test_cases = [ \n",
    "                [[1, 2, 3],\n",
    "                 [4, 5, 6],\n",
    "                 [7, 8, 0]],\n",
    "    \n",
    "                [[1, 2, 3],\n",
    "                 [4, 5, 6],\n",
    "                 [0, 7, 8]],\n",
    "                \n",
    "                [[1, 2, 3],\n",
    "                 [5, 0, 6],\n",
    "                 [4, 7, 8]],  \n",
    "] "
   ]
  },
  {
   "cell_type": "code",
   "execution_count": 5,
   "id": "532af892-b179-4e8c-858f-0b681e491a49",
   "metadata": {},
   "outputs": [],
   "source": [
    "def solve_eight_puzzle(start_state, heuristic):\n",
    "    # Create a priority queue to store the open states.\n",
    "    open_states = []\n",
    "    heapq.heappush(open_states, (0, start_state))\n",
    "    print(heapq)\n",
    "    print(open_states)\n",
    "    # Create a set to store the closed states.\n",
    "    closed_states = set()\n",
    "\n",
    "    # While the open queue is not empty:\n",
    "    while open_states:\n",
    "        # Get the state with the lowest f(n) value from the open queue.\n",
    "        f_n, state = heapq.heappop(open_states)\n",
    "        print(\"in the loop,  fn= \",f_n, \" state: \", state.board) \n",
    "        # If the state is the goal state, return it.\n",
    "        if state.is_goal_state():\n",
    "            return state.board\n",
    "\n",
    "        # Add the state to the closed set.\n",
    "        closed_states.add(state.get_string())\n",
    "\n",
    "        # For each neighbor of the state:\n",
    "        for neighbor in state.get_neighbors():\n",
    "          # If the neighbor is not in the closed set:\n",
    "        \n",
    "            if neighbor.get_string() not in closed_states:\n",
    "                # Calculate the g(n) and h(n) values for the neighbor.\n",
    "                g_n = f_n + 1\n",
    "                h_n = misplaced_tiles_heuristic(neighbor.board)\n",
    "\n",
    "                # Calculate the f(n) value for the neighbor.\n",
    "                f_n = g_n + h_n\n",
    "\n",
    "                # Add the neighbor to the open queue.\n",
    "                heapq.heappush(open_states, (f_n, neighbor))\n",
    "\n",
    "    # No solution was found.\n",
    "    return None"
   ]
  },
  {
   "cell_type": "code",
   "execution_count": 6,
   "id": "31d54d63-d130-4fd0-8c0d-4ca4470979d6",
   "metadata": {},
   "outputs": [],
   "source": [
    "heuristic_choices = 'Misplaced tiles heuristic'"
   ]
  },
  {
   "cell_type": "code",
   "execution_count": 7,
   "id": "6c6bb219-9437-40c2-acdb-4cb0df5928cd",
   "metadata": {},
   "outputs": [
    {
     "data": {
      "text/plain": [
       "[[1, 2, 3], [5, 0, 6], [4, 7, 8]]"
      ]
     },
     "execution_count": 7,
     "metadata": {},
     "output_type": "execute_result"
    }
   ],
   "source": [
    "test_cases[2]"
   ]
  },
  {
   "cell_type": "code",
   "execution_count": 8,
   "id": "da5e434b-5015-411d-bf51-5c57133838f1",
   "metadata": {},
   "outputs": [],
   "source": [
    "state = EightPuzzleState(test_cases[1])"
   ]
  },
  {
   "cell_type": "code",
   "execution_count": 9,
   "id": "20a199ad-1c8f-4f20-92ed-bffb997cca06",
   "metadata": {},
   "outputs": [
    {
     "data": {
      "text/plain": [
       "'123456078'"
      ]
     },
     "execution_count": 9,
     "metadata": {},
     "output_type": "execute_result"
    }
   ],
   "source": [
    "state.get_string()"
   ]
  },
  {
   "cell_type": "code",
   "execution_count": 10,
   "id": "237148ef-3591-4c97-b798-89bdf5036be2",
   "metadata": {},
   "outputs": [],
   "source": [
    "def printBoard(board):\n",
    "    for row in board:\n",
    "        print(row)"
   ]
  },
  {
   "cell_type": "code",
   "execution_count": 11,
   "id": "185661d1-5a87-4901-9cf4-0accad850e70",
   "metadata": {},
   "outputs": [
    {
     "name": "stdout",
     "output_type": "stream",
     "text": [
      "[(0, <__main__.EightPuzzleState object at 0x106d7cdf0>)]\n",
      "in the loop,  fn=  0  state: \n",
      "[1, 2, 3]\n",
      "[4, 5, 6]\n",
      "[0, 7, 8]\n",
      "[(1, <__main__.EightPuzzleState object at 0x106d7b2b0>)]\n",
      "in the loop,  fn=  1  state: \n",
      "[1, 2, 3]\n",
      "[4, 5, 6]\n",
      "[7, 0, 8]\n",
      "[(2, <__main__.EightPuzzleState object at 0x106d7bf10>), (3, <__main__.EightPuzzleState object at 0x106d7b340>)]\n",
      "in the loop,  fn=  2  state: \n",
      "[1, 2, 3]\n",
      "[4, 0, 6]\n",
      "[7, 5, 8]\n",
      "[(3, <__main__.EightPuzzleState object at 0x106d7b340>), (3, <__main__.EightPuzzleState object at 0x106d7b370>)]\n",
      "in the loop,  fn=  3  state: \n",
      "[1, 2, 3]\n",
      "[4, 5, 6]\n",
      "[7, 8, 0]\n",
      "solved:  [[1, 2, 3], [4, 5, 6], [7, 8, 0]]\n"
     ]
    }
   ],
   "source": [
    "# Create a priority queue to store the open states.\n",
    "open_states = []\n",
    "heapq.heappush(open_states, (0, state))\n",
    "# print(open_states)\n",
    "# f_n, state2 = heapq.heappop(open_states)\n",
    "# print(\"in the loop,  fn= \",f_n, \" state: \", state2.board) \n",
    "# print(open_states)\n",
    "# Create a set to store the closed states.\n",
    "closed_states = set()\n",
    "\n",
    "# While the open queue is not empty:\n",
    "while open_states:\n",
    "    # Get the state with the lowest f(n) value from the open queue.\n",
    "    print(open_states)\n",
    "    f_n, state = heapq.heappop(open_states)\n",
    "    print(\"in the loop,  fn= \",f_n, \" state: \") \n",
    "    printBoard(state.board)\n",
    "    # If the state is the goal state, return it.\n",
    "    if state.is_goal_state():\n",
    "        print(\"solved: \", state.board)\n",
    "        break\n",
    "        #return state.board\n",
    "\n",
    "    # Add the state to the closed set.\n",
    "    closed_states.add(state.get_string())\n",
    "\n",
    "    # For each neighbor of the state:\n",
    "    for neighbor in state.get_neighbors():\n",
    "      # If the neighbor is not in the closed set:\n",
    "\n",
    "        if neighbor.get_string() not in closed_states:\n",
    "            # Calculate the g(n) and h(n) values for the neighbor.\n",
    "            g_n = f_n + 1\n",
    "            h_n = 0 #misplaced_tiles_heuristic(neighbor.board)\n",
    "\n",
    "            # Calculate the f(n) value for the neighbor.\n",
    "            f_n = g_n + h_n\n",
    "\n",
    "            # Add the neighbor to the open queue.\n",
    "            heapq.heappush(open_states, (f_n, neighbor))"
   ]
  },
  {
   "cell_type": "code",
   "execution_count": 12,
   "id": "bb8896ee-ccf5-4f17-a13f-ca36b9431595",
   "metadata": {},
   "outputs": [
    {
     "name": "stdout",
     "output_type": "stream",
     "text": [
      "<module 'heapq' from '/usr/local/Cellar/python@3.9/3.9.7_1/Frameworks/Python.framework/Versions/3.9/lib/python3.9/heapq.py'>\n",
      "[(0, <__main__.EightPuzzleState object at 0x106d7b340>)]\n",
      "in the loop,  fn=  0  state:  [[1, 2, 3], [4, 5, 6], [7, 8, 0]]\n"
     ]
    },
    {
     "data": {
      "text/plain": [
       "[[1, 2, 3], [4, 5, 6], [7, 8, 0]]"
      ]
     },
     "execution_count": 12,
     "metadata": {},
     "output_type": "execute_result"
    }
   ],
   "source": [
    "solve_eight_puzzle(state, heuristic_choices)"
   ]
  },
  {
   "cell_type": "code",
   "execution_count": 13,
   "id": "2d709df2-da95-4e21-ad24-a089a223095c",
   "metadata": {},
   "outputs": [
    {
     "data": {
      "text/plain": [
       "True"
      ]
     },
     "execution_count": 13,
     "metadata": {},
     "output_type": "execute_result"
    }
   ],
   "source": [
    "state.is_goal_state()"
   ]
  },
  {
   "cell_type": "code",
   "execution_count": 14,
   "id": "43ced83b-4797-4b52-b8fa-60c8df8818da",
   "metadata": {},
   "outputs": [
    {
     "data": {
      "text/plain": [
       "[[1, 2, 3], [4, 5, 6], [7, 8, 0]]"
      ]
     },
     "execution_count": 14,
     "metadata": {},
     "output_type": "execute_result"
    }
   ],
   "source": [
    "state.board"
   ]
  },
  {
   "cell_type": "code",
   "execution_count": 15,
   "id": "952f329d-dec4-49cb-bc96-18600d0131c9",
   "metadata": {},
   "outputs": [],
   "source": [
    "neighbors = state.get_neighbors()"
   ]
  },
  {
   "cell_type": "code",
   "execution_count": 16,
   "id": "8ebe4263-9cb4-4c9a-ab0d-1ce940f89d17",
   "metadata": {},
   "outputs": [
    {
     "data": {
      "text/plain": [
       "[[1, 2, 3], [4, 5, 0], [7, 8, 6]]"
      ]
     },
     "execution_count": 16,
     "metadata": {},
     "output_type": "execute_result"
    }
   ],
   "source": [
    "neighbors[0].board"
   ]
  },
  {
   "cell_type": "code",
   "execution_count": 17,
   "id": "bce13b55-a655-4152-b513-c80bc317946a",
   "metadata": {},
   "outputs": [
    {
     "data": {
      "text/plain": [
       "[[1, 2, 3], [4, 5, 6], [7, 0, 8]]"
      ]
     },
     "execution_count": 17,
     "metadata": {},
     "output_type": "execute_result"
    }
   ],
   "source": [
    "neighbors[1].board"
   ]
  },
  {
   "cell_type": "code",
   "execution_count": 18,
   "id": "97d9bc95-478b-474b-a319-e303f07c3070",
   "metadata": {},
   "outputs": [
    {
     "data": {
      "text/plain": [
       "2"
      ]
     },
     "execution_count": 18,
     "metadata": {},
     "output_type": "execute_result"
    }
   ],
   "source": [
    "misplaced_tiles_heuristic(neighbors[1].board)"
   ]
  }
 ],
 "metadata": {
  "kernelspec": {
   "display_name": "Python 3 (ipykernel)",
   "language": "python",
   "name": "python3"
  },
  "language_info": {
   "codemirror_mode": {
    "name": "ipython",
    "version": 3
   },
   "file_extension": ".py",
   "mimetype": "text/x-python",
   "name": "python",
   "nbconvert_exporter": "python",
   "pygments_lexer": "ipython3",
   "version": "3.9.7"
  }
 },
 "nbformat": 4,
 "nbformat_minor": 5
}
